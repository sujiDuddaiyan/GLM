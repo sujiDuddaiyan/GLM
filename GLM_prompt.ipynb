{
  "nbformat": 4,
  "nbformat_minor": 0,
  "metadata": {
    "colab": {
      "provenance": [],
      "authorship_tag": "ABX9TyNux1am+SNHA2uxOJPPD3HU",
      "include_colab_link": true
    },
    "kernelspec": {
      "name": "python3",
      "display_name": "Python 3"
    },
    "language_info": {
      "name": "python"
    }
  },
  "cells": [
    {
      "cell_type": "markdown",
      "metadata": {
        "id": "view-in-github",
        "colab_type": "text"
      },
      "source": [
        "<a href=\"https://colab.research.google.com/github/sujiDuddaiyan/GLM/blob/main/GLM_prompt.ipynb\" target=\"_parent\"><img src=\"https://colab.research.google.com/assets/colab-badge.svg\" alt=\"Open In Colab\"/></a>"
      ]
    },
    {
      "cell_type": "code",
      "source": [
        "# Example data\n",
        "input_text = \"whai is prompt\"\n",
        "example_input = \"Explain the types of prompt.\"\n",
        "example_output = \"three types of prompts like zero shot prompting,one shot prompting and chain of thought prompting \"\n",
        "\n",
        "def zero_shot_prompt(input_text):\n",
        "    \"\"\"\n",
        "    Creates a zero-shot prompt, where the model is expected to respond without any example.\n",
        "    \"\"\"\n",
        "    return f\"Answer the following question: {input_text}\"\n",
        "\n",
        "def one_shot_prompt(input_text, example_input, example_output):\n",
        "    \"\"\"\n",
        "    Creates a one-shot prompt, where the model is given one example to guide its response.\n",
        "    \"\"\"\n",
        "    prompt = (\n",
        "        f\"Example:\\n\"\n",
        "        f\"Q: {example_input}\\n\"\n",
        "        f\"A: {example_output}\\n\\n\"\n",
        "        f\"Now, answer the following question:\\n\"\n",
        "        f\"Q: {input_text}\\n\"\n",
        "        f\"A:\"\n",
        "    )\n",
        "    return prompt\n",
        "\n",
        "def chain_of_thought_prompt(input_text):\n",
        "    \"\"\"\n",
        "    Creates a chain-of-thought prompt, where the model is encouraged to reason step-by-step before giving a final answer.\n",
        "    \"\"\"\n",
        "    return (\n",
        "        f\"Let's think step by step:\\n\"\n",
        "        f\"1. First, identify the key components involved.\\n\"\n",
        "        f\"2. Next, describe the function of each component.\\n\"\n",
        "        f\"3. Then, explain how these components work together in the process.\\n\"\n",
        "        f\"4. Finally, summarize the entire process in a single statement.\\n\\n\"\n",
        "        f\"Now, answer the following question: {input_text}\"\n",
        "    )\n",
        "\n",
        "# Generate prompts\n",
        "zero_shot = zero_shot_prompt(input_text)\n",
        "one_shot = one_shot_prompt(input_text, example_input, example_output)\n",
        "chain_of_thought = chain_of_thought_prompt(input_text)\n",
        "\n",
        "# Output the prompts\n",
        "print(\"Zero-Shot Prompt:\\n\", zero_shot)\n",
        "print(\"\\nOne-Shot Prompt:\\n\", one_shot)\n",
        "print(\"\\nChain-of-Thought Prompt:\\n\", chain_of_thought)\n"
      ],
      "metadata": {
        "id": "QlnfzGIGLtbu",
        "colab": {
          "base_uri": "https://localhost:8080/"
        },
        "outputId": "21c65c70-3f20-4bac-b0b6-851b237cc702"
      },
      "execution_count": null,
      "outputs": [
        {
          "output_type": "stream",
          "name": "stdout",
          "text": [
            "Zero-Shot Prompt:\n",
            " Answer the following question: whai is prompt\n",
            "\n",
            "One-Shot Prompt:\n",
            " Example:\n",
            "Q: Explain the types of prompt.\n",
            "A: three types of prompts like zero shot prompting,one shot prompting and chain of thought prompting \n",
            "\n",
            "Now, answer the following question:\n",
            "Q: whai is prompt\n",
            "A:\n",
            "\n",
            "Chain-of-Thought Prompt:\n",
            " Let's think step by step:\n",
            "1. First, identify the key components involved.\n",
            "2. Next, describe the function of each component.\n",
            "3. Then, explain how these components work together in the process.\n",
            "4. Finally, summarize the entire process in a single statement.\n",
            "\n",
            "Now, answer the following question: whai is prompt\n"
          ]
        }
      ]
    },
    {
      "cell_type": "code",
      "source": [
        "# Example data\n",
        "input_text = \"What is a prompt?\"\n",
        "example_input = \"Explain the types of prompts.\"\n",
        "example_output = \"There are three main types of prompts: zero-shot, one-shot, and chain-of-thought prompting.\"\n",
        "\n",
        "def zero_shot_prompt(input_text):\n",
        "    \"\"\"\n",
        "    Creates a zero-shot prompt,where the model is expected to respond without any example.\n",
        "    \"\"\"\n",
        "    return f\"Answer the following question: {input_text}\"\n",
        "\n",
        "def one_shot_prompt(input_text, example_input, example_output):\n",
        "    \"\"\"\n",
        "    Creates a one-shot prompt, where the model is given one example to guide its response.\n",
        "    \"\"\"\n",
        "    prompt = (\n",
        "        f\"Example:\\n\"\n",
        "        f\"Q: {example_input}\\n\"\n",
        "        f\"A: {example_output}\\n\\n\"\n",
        "        f\"Now, answer the following question:\\n\"\n",
        "        f\"Q: {input_text}\\n\"\n",
        "        f\"A:\"\n",
        "    )\n",
        "    return prompt\n",
        "\n",
        "def chain_of_thought_prompt(input_text):\n",
        "    \"\"\"\n",
        "    Creates a chain-of-thought prompt, where the model is encouraged to reason step-by-step before giving a final answer.\n",
        "    \"\"\"\n",
        "    return (\n",
        "        f\"Let's think step by step:\\n\"\n",
        "        f\"1. First, consider what a 'prompt' means in the context of AI and natural language processing.\\n\"\n",
        "        f\"2. Next, explain how prompts are used to instruct models to perform specific tasks.\\n\"\n",
        "        f\"3. Then, provide examples of different types of prompts, such as zero-shot, one-shot, and chain-of-thought prompts.\\n\"\n",
        "        f\"4. Finally, summarize the concept of a prompt in a single statement.\\n\\n\"\n",
        "        f\"Now, answer the following question: {input_text}\"\n",
        "    )\n",
        "\n",
        "# Generate prompts\n",
        "zero_shot = zero_shot_prompt(input_text)\n",
        "one_shot = one_shot_prompt(input_text, example_input, example_output)\n",
        "chain_of_thought = chain_of_thought_prompt(input_text)\n",
        "\n",
        "# Output the prompts\n",
        "print(\"Zero-Shot Prompt:\\n\", zero_shot)\n",
        "print(\"\\nOne-Shot Prompt:\\n\", one_shot)\n",
        "print(\"\\nChain-of-Thought Prompt:\\n\", chain_of_thought)\n"
      ],
      "metadata": {
        "colab": {
          "base_uri": "https://localhost:8080/"
        },
        "id": "TfqlDOUwILkg",
        "outputId": "8d5be5a2-99a4-49e0-ebae-3ace7354478e"
      },
      "execution_count": null,
      "outputs": [
        {
          "output_type": "stream",
          "name": "stdout",
          "text": [
            "Zero-Shot Prompt:\n",
            " Answer the following question: What is a prompt?\n",
            "\n",
            "One-Shot Prompt:\n",
            " Example:\n",
            "Q: Explain the types of prompts.\n",
            "A: There are three main types of prompts: zero-shot, one-shot, and chain-of-thought prompting.\n",
            "\n",
            "Now, answer the following question:\n",
            "Q: What is a prompt?\n",
            "A:\n",
            "\n",
            "Chain-of-Thought Prompt:\n",
            " Let's think step by step:\n",
            "1. First, consider what a 'prompt' means in the context of AI and natural language processing.\n",
            "2. Next, explain how prompts are used to instruct models to perform specific tasks.\n",
            "3. Then, provide examples of different types of prompts, such as zero-shot, one-shot, and chain-of-thought prompts.\n",
            "4. Finally, summarize the concept of a prompt in a single statement.\n",
            "\n",
            "Now, answer the following question: What is a prompt?\n"
          ]
        }
      ]
    }
  ]
}