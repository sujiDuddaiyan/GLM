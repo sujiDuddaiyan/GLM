{
  "cells": [
    {
      "cell_type": "markdown",
      "metadata": {
        "id": "view-in-github",
        "colab_type": "text"
      },
      "source": [
        "<a href=\"https://colab.research.google.com/github/sujiDuddaiyan/GLM/blob/main/Copy_of_GLM_text_embedding.ipynb\" target=\"_parent\"><img src=\"https://colab.research.google.com/assets/colab-badge.svg\" alt=\"Open In Colab\"/></a>"
      ]
    },
    {
      "cell_type": "code",
      "execution_count": null,
      "metadata": {
        "id": "J1V4J45wFcH9"
      },
      "outputs": [],
      "source": [
        "sentences = [\"Kerala Reels Under Massive Landslides Death Toll Mounts\",\n",
        "\"Rescue Operations Intensify as Kerala Battles Floods and Landslides\",\n",
        "\"Kerala CM Pinarayi Vijayan Announces Relief Measures for Landslide Victims\",\n",
        "\"Army, Navy Join Rescue Efforts in Kerala's Disaster-Hit Districts\",\n",
        "\"Kerala Braces for More Rain as Landslide Threat Looms Large\",\n",
        "\"Heart-Wrenching Stories Emerge from Kerala Landslide Tragedy\",\n",
        "\"Kerala Government Seeks Central Assistance to Tackle Crisis\",\n",
        "\"Climate Change Impact Experts Warn of Increased Landslide Risk in Kerala\"]"
      ]
    },
    {
      "cell_type": "code",
      "execution_count": null,
      "metadata": {
        "id": "U2oljEsjHcnp"
      },
      "outputs": [],
      "source": [
        "#jaccard similarity measure\n",
        "def jaccard_similarity(x,y):\n",
        "  \"\"\" returns the jaccard similarity between two lists \"\"\"\n",
        "  intersection_cardinality = len(set.intersection(*[set(x), set(y)]))\n",
        "  union_cardinality = len(set.union(*[set(x), set(y)]))\n",
        "  return intersection_cardinality/float(union_cardinality)"
      ]
    },
    {
      "cell_type": "code",
      "execution_count": null,
      "metadata": {
        "colab": {
          "base_uri": "https://localhost:8080/"
        },
        "id": "F3mpgRYRhOmk",
        "outputId": "8818a00e-57ae-4761-d0b9-8eade66eb3e6"
      },
      "outputs": [
        {
          "output_type": "execute_result",
          "data": {
            "text/plain": [
              "0.13333333333333333"
            ]
          },
          "metadata": {},
          "execution_count": 3
        }
      ],
      "source": [
        "sentences = [\"Kerala Reels Under Massive Landslides Death Toll Mounts\",\n",
        "\"Rescue Operations Intensify as Kerala Battles Floods and Landslides\",\n",
        "\"Kerala CM Pinarayi Vijayan Announces Relief Measures for Landslide Victims\",\n",
        "\"Army, Navy Join Rescue Efforts in Kerala's Disaster-Hit Districts\",\n",
        "\"Kerala Braces for More Rain as Landslide Threat Looms Large\",\n",
        "\"Heart-Wrenching Stories Emerge from Kerala Landslide Tragedy\",\n",
        "\"Kerala Government Seeks Central Assistance to Tackle Crisis\",\n",
        "\"Climate Change Impact Experts Warn of Increased Landslide Risk in Kerala\"]\n",
        "sentences = [sent.lower().split(\" \") for sent in sentences]\n",
        "jaccard_similarity(sentences[0], sentences[1])"
      ]
    },
    {
      "cell_type": "code",
      "execution_count": null,
      "metadata": {
        "id": "I-s3qyuwhaKq"
      },
      "outputs": [],
      "source": [
        "#euclidean distance\n",
        "from math import sqrt, pow, exp\n",
        "\n",
        "def squared_sum(x):\n",
        "  \"\"\" return 3 rounded square rooted value \"\"\"\n",
        "\n",
        "  return round(sqrt(sum([a*a for a in x])),3)\n",
        "\n",
        "def euclidean_distance(x,y):\n",
        "  \"\"\" return euclidean distance between two lists \"\"\"\n",
        "\n",
        "  return sqrt(sum(pow(a-b,2) for a, b in zip(x, y)))"
      ]
    },
    {
      "cell_type": "code",
      "execution_count": null,
      "metadata": {
        "colab": {
          "base_uri": "https://localhost:8080/"
        },
        "id": "jEKcs2F_h0os",
        "outputId": "71ea4c69-a8e7-40bb-9ee5-c5c37a006161"
      },
      "outputs": [
        {
          "output_type": "stream",
          "name": "stdout",
          "text": [
            "Requirement already satisfied: spacy in /usr/local/lib/python3.10/dist-packages (3.7.5)\n",
            "Requirement already satisfied: spacy-legacy<3.1.0,>=3.0.11 in /usr/local/lib/python3.10/dist-packages (from spacy) (3.0.12)\n",
            "Requirement already satisfied: spacy-loggers<2.0.0,>=1.0.0 in /usr/local/lib/python3.10/dist-packages (from spacy) (1.0.5)\n",
            "Requirement already satisfied: murmurhash<1.1.0,>=0.28.0 in /usr/local/lib/python3.10/dist-packages (from spacy) (1.0.10)\n",
            "Requirement already satisfied: cymem<2.1.0,>=2.0.2 in /usr/local/lib/python3.10/dist-packages (from spacy) (2.0.8)\n",
            "Requirement already satisfied: preshed<3.1.0,>=3.0.2 in /usr/local/lib/python3.10/dist-packages (from spacy) (3.0.9)\n",
            "Requirement already satisfied: thinc<8.3.0,>=8.2.2 in /usr/local/lib/python3.10/dist-packages (from spacy) (8.2.5)\n",
            "Requirement already satisfied: wasabi<1.2.0,>=0.9.1 in /usr/local/lib/python3.10/dist-packages (from spacy) (1.1.3)\n",
            "Requirement already satisfied: srsly<3.0.0,>=2.4.3 in /usr/local/lib/python3.10/dist-packages (from spacy) (2.4.8)\n",
            "Requirement already satisfied: catalogue<2.1.0,>=2.0.6 in /usr/local/lib/python3.10/dist-packages (from spacy) (2.0.10)\n",
            "Requirement already satisfied: weasel<0.5.0,>=0.1.0 in /usr/local/lib/python3.10/dist-packages (from spacy) (0.4.1)\n",
            "Requirement already satisfied: typer<1.0.0,>=0.3.0 in /usr/local/lib/python3.10/dist-packages (from spacy) (0.12.3)\n",
            "Requirement already satisfied: tqdm<5.0.0,>=4.38.0 in /usr/local/lib/python3.10/dist-packages (from spacy) (4.66.4)\n",
            "Requirement already satisfied: requests<3.0.0,>=2.13.0 in /usr/local/lib/python3.10/dist-packages (from spacy) (2.31.0)\n",
            "Requirement already satisfied: pydantic!=1.8,!=1.8.1,<3.0.0,>=1.7.4 in /usr/local/lib/python3.10/dist-packages (from spacy) (2.8.2)\n",
            "Requirement already satisfied: jinja2 in /usr/local/lib/python3.10/dist-packages (from spacy) (3.1.4)\n",
            "Requirement already satisfied: setuptools in /usr/local/lib/python3.10/dist-packages (from spacy) (71.0.4)\n",
            "Requirement already satisfied: packaging>=20.0 in /usr/local/lib/python3.10/dist-packages (from spacy) (24.1)\n",
            "Requirement already satisfied: langcodes<4.0.0,>=3.2.0 in /usr/local/lib/python3.10/dist-packages (from spacy) (3.4.0)\n",
            "Requirement already satisfied: numpy>=1.19.0 in /usr/local/lib/python3.10/dist-packages (from spacy) (1.26.4)\n",
            "Requirement already satisfied: language-data>=1.2 in /usr/local/lib/python3.10/dist-packages (from langcodes<4.0.0,>=3.2.0->spacy) (1.2.0)\n",
            "Requirement already satisfied: annotated-types>=0.4.0 in /usr/local/lib/python3.10/dist-packages (from pydantic!=1.8,!=1.8.1,<3.0.0,>=1.7.4->spacy) (0.7.0)\n",
            "Requirement already satisfied: pydantic-core==2.20.1 in /usr/local/lib/python3.10/dist-packages (from pydantic!=1.8,!=1.8.1,<3.0.0,>=1.7.4->spacy) (2.20.1)\n",
            "Requirement already satisfied: typing-extensions>=4.6.1 in /usr/local/lib/python3.10/dist-packages (from pydantic!=1.8,!=1.8.1,<3.0.0,>=1.7.4->spacy) (4.12.2)\n",
            "Requirement already satisfied: charset-normalizer<4,>=2 in /usr/local/lib/python3.10/dist-packages (from requests<3.0.0,>=2.13.0->spacy) (3.3.2)\n",
            "Requirement already satisfied: idna<4,>=2.5 in /usr/local/lib/python3.10/dist-packages (from requests<3.0.0,>=2.13.0->spacy) (3.7)\n",
            "Requirement already satisfied: urllib3<3,>=1.21.1 in /usr/local/lib/python3.10/dist-packages (from requests<3.0.0,>=2.13.0->spacy) (2.0.7)\n",
            "Requirement already satisfied: certifi>=2017.4.17 in /usr/local/lib/python3.10/dist-packages (from requests<3.0.0,>=2.13.0->spacy) (2024.7.4)\n",
            "Requirement already satisfied: blis<0.8.0,>=0.7.8 in /usr/local/lib/python3.10/dist-packages (from thinc<8.3.0,>=8.2.2->spacy) (0.7.11)\n",
            "Requirement already satisfied: confection<1.0.0,>=0.0.1 in /usr/local/lib/python3.10/dist-packages (from thinc<8.3.0,>=8.2.2->spacy) (0.1.5)\n",
            "Requirement already satisfied: click>=8.0.0 in /usr/local/lib/python3.10/dist-packages (from typer<1.0.0,>=0.3.0->spacy) (8.1.7)\n",
            "Requirement already satisfied: shellingham>=1.3.0 in /usr/local/lib/python3.10/dist-packages (from typer<1.0.0,>=0.3.0->spacy) (1.5.4)\n",
            "Requirement already satisfied: rich>=10.11.0 in /usr/local/lib/python3.10/dist-packages (from typer<1.0.0,>=0.3.0->spacy) (13.7.1)\n",
            "Requirement already satisfied: cloudpathlib<1.0.0,>=0.7.0 in /usr/local/lib/python3.10/dist-packages (from weasel<0.5.0,>=0.1.0->spacy) (0.18.1)\n",
            "Requirement already satisfied: smart-open<8.0.0,>=5.2.1 in /usr/local/lib/python3.10/dist-packages (from weasel<0.5.0,>=0.1.0->spacy) (7.0.4)\n",
            "Requirement already satisfied: MarkupSafe>=2.0 in /usr/local/lib/python3.10/dist-packages (from jinja2->spacy) (2.1.5)\n",
            "Requirement already satisfied: marisa-trie>=0.7.7 in /usr/local/lib/python3.10/dist-packages (from language-data>=1.2->langcodes<4.0.0,>=3.2.0->spacy) (1.2.0)\n",
            "Requirement already satisfied: markdown-it-py>=2.2.0 in /usr/local/lib/python3.10/dist-packages (from rich>=10.11.0->typer<1.0.0,>=0.3.0->spacy) (3.0.0)\n",
            "Requirement already satisfied: pygments<3.0.0,>=2.13.0 in /usr/local/lib/python3.10/dist-packages (from rich>=10.11.0->typer<1.0.0,>=0.3.0->spacy) (2.16.1)\n",
            "Requirement already satisfied: wrapt in /usr/local/lib/python3.10/dist-packages (from smart-open<8.0.0,>=5.2.1->weasel<0.5.0,>=0.1.0->spacy) (1.16.0)\n",
            "Requirement already satisfied: mdurl~=0.1 in /usr/local/lib/python3.10/dist-packages (from markdown-it-py>=2.2.0->rich>=10.11.0->typer<1.0.0,>=0.3.0->spacy) (0.1.2)\n",
            "Collecting en-core-web-sm==3.7.1\n",
            "  Downloading https://github.com/explosion/spacy-models/releases/download/en_core_web_sm-3.7.1/en_core_web_sm-3.7.1-py3-none-any.whl (12.8 MB)\n",
            "\u001b[2K     \u001b[90m━━━━━━━━━━━━━━━━━━━━━━━━━━━━━━━━━━━━━━━━\u001b[0m \u001b[32m12.8/12.8 MB\u001b[0m \u001b[31m21.6 MB/s\u001b[0m eta \u001b[36m0:00:00\u001b[0m\n",
            "\u001b[?25hRequirement already satisfied: spacy<3.8.0,>=3.7.2 in /usr/local/lib/python3.10/dist-packages (from en-core-web-sm==3.7.1) (3.7.5)\n",
            "Requirement already satisfied: spacy-legacy<3.1.0,>=3.0.11 in /usr/local/lib/python3.10/dist-packages (from spacy<3.8.0,>=3.7.2->en-core-web-sm==3.7.1) (3.0.12)\n",
            "Requirement already satisfied: spacy-loggers<2.0.0,>=1.0.0 in /usr/local/lib/python3.10/dist-packages (from spacy<3.8.0,>=3.7.2->en-core-web-sm==3.7.1) (1.0.5)\n",
            "Requirement already satisfied: murmurhash<1.1.0,>=0.28.0 in /usr/local/lib/python3.10/dist-packages (from spacy<3.8.0,>=3.7.2->en-core-web-sm==3.7.1) (1.0.10)\n",
            "Requirement already satisfied: cymem<2.1.0,>=2.0.2 in /usr/local/lib/python3.10/dist-packages (from spacy<3.8.0,>=3.7.2->en-core-web-sm==3.7.1) (2.0.8)\n",
            "Requirement already satisfied: preshed<3.1.0,>=3.0.2 in /usr/local/lib/python3.10/dist-packages (from spacy<3.8.0,>=3.7.2->en-core-web-sm==3.7.1) (3.0.9)\n",
            "Requirement already satisfied: thinc<8.3.0,>=8.2.2 in /usr/local/lib/python3.10/dist-packages (from spacy<3.8.0,>=3.7.2->en-core-web-sm==3.7.1) (8.2.5)\n",
            "Requirement already satisfied: wasabi<1.2.0,>=0.9.1 in /usr/local/lib/python3.10/dist-packages (from spacy<3.8.0,>=3.7.2->en-core-web-sm==3.7.1) (1.1.3)\n",
            "Requirement already satisfied: srsly<3.0.0,>=2.4.3 in /usr/local/lib/python3.10/dist-packages (from spacy<3.8.0,>=3.7.2->en-core-web-sm==3.7.1) (2.4.8)\n",
            "Requirement already satisfied: catalogue<2.1.0,>=2.0.6 in /usr/local/lib/python3.10/dist-packages (from spacy<3.8.0,>=3.7.2->en-core-web-sm==3.7.1) (2.0.10)\n",
            "Requirement already satisfied: weasel<0.5.0,>=0.1.0 in /usr/local/lib/python3.10/dist-packages (from spacy<3.8.0,>=3.7.2->en-core-web-sm==3.7.1) (0.4.1)\n",
            "Requirement already satisfied: typer<1.0.0,>=0.3.0 in /usr/local/lib/python3.10/dist-packages (from spacy<3.8.0,>=3.7.2->en-core-web-sm==3.7.1) (0.12.3)\n",
            "Requirement already satisfied: tqdm<5.0.0,>=4.38.0 in /usr/local/lib/python3.10/dist-packages (from spacy<3.8.0,>=3.7.2->en-core-web-sm==3.7.1) (4.66.4)\n",
            "Requirement already satisfied: requests<3.0.0,>=2.13.0 in /usr/local/lib/python3.10/dist-packages (from spacy<3.8.0,>=3.7.2->en-core-web-sm==3.7.1) (2.31.0)\n",
            "Requirement already satisfied: pydantic!=1.8,!=1.8.1,<3.0.0,>=1.7.4 in /usr/local/lib/python3.10/dist-packages (from spacy<3.8.0,>=3.7.2->en-core-web-sm==3.7.1) (2.8.2)\n",
            "Requirement already satisfied: jinja2 in /usr/local/lib/python3.10/dist-packages (from spacy<3.8.0,>=3.7.2->en-core-web-sm==3.7.1) (3.1.4)\n",
            "Requirement already satisfied: setuptools in /usr/local/lib/python3.10/dist-packages (from spacy<3.8.0,>=3.7.2->en-core-web-sm==3.7.1) (71.0.4)\n",
            "Requirement already satisfied: packaging>=20.0 in /usr/local/lib/python3.10/dist-packages (from spacy<3.8.0,>=3.7.2->en-core-web-sm==3.7.1) (24.1)\n",
            "Requirement already satisfied: langcodes<4.0.0,>=3.2.0 in /usr/local/lib/python3.10/dist-packages (from spacy<3.8.0,>=3.7.2->en-core-web-sm==3.7.1) (3.4.0)\n",
            "Requirement already satisfied: numpy>=1.19.0 in /usr/local/lib/python3.10/dist-packages (from spacy<3.8.0,>=3.7.2->en-core-web-sm==3.7.1) (1.26.4)\n",
            "Requirement already satisfied: language-data>=1.2 in /usr/local/lib/python3.10/dist-packages (from langcodes<4.0.0,>=3.2.0->spacy<3.8.0,>=3.7.2->en-core-web-sm==3.7.1) (1.2.0)\n",
            "Requirement already satisfied: annotated-types>=0.4.0 in /usr/local/lib/python3.10/dist-packages (from pydantic!=1.8,!=1.8.1,<3.0.0,>=1.7.4->spacy<3.8.0,>=3.7.2->en-core-web-sm==3.7.1) (0.7.0)\n",
            "Requirement already satisfied: pydantic-core==2.20.1 in /usr/local/lib/python3.10/dist-packages (from pydantic!=1.8,!=1.8.1,<3.0.0,>=1.7.4->spacy<3.8.0,>=3.7.2->en-core-web-sm==3.7.1) (2.20.1)\n",
            "Requirement already satisfied: typing-extensions>=4.6.1 in /usr/local/lib/python3.10/dist-packages (from pydantic!=1.8,!=1.8.1,<3.0.0,>=1.7.4->spacy<3.8.0,>=3.7.2->en-core-web-sm==3.7.1) (4.12.2)\n",
            "Requirement already satisfied: charset-normalizer<4,>=2 in /usr/local/lib/python3.10/dist-packages (from requests<3.0.0,>=2.13.0->spacy<3.8.0,>=3.7.2->en-core-web-sm==3.7.1) (3.3.2)\n",
            "Requirement already satisfied: idna<4,>=2.5 in /usr/local/lib/python3.10/dist-packages (from requests<3.0.0,>=2.13.0->spacy<3.8.0,>=3.7.2->en-core-web-sm==3.7.1) (3.7)\n",
            "Requirement already satisfied: urllib3<3,>=1.21.1 in /usr/local/lib/python3.10/dist-packages (from requests<3.0.0,>=2.13.0->spacy<3.8.0,>=3.7.2->en-core-web-sm==3.7.1) (2.0.7)\n",
            "Requirement already satisfied: certifi>=2017.4.17 in /usr/local/lib/python3.10/dist-packages (from requests<3.0.0,>=2.13.0->spacy<3.8.0,>=3.7.2->en-core-web-sm==3.7.1) (2024.7.4)\n",
            "Requirement already satisfied: blis<0.8.0,>=0.7.8 in /usr/local/lib/python3.10/dist-packages (from thinc<8.3.0,>=8.2.2->spacy<3.8.0,>=3.7.2->en-core-web-sm==3.7.1) (0.7.11)\n",
            "Requirement already satisfied: confection<1.0.0,>=0.0.1 in /usr/local/lib/python3.10/dist-packages (from thinc<8.3.0,>=8.2.2->spacy<3.8.0,>=3.7.2->en-core-web-sm==3.7.1) (0.1.5)\n",
            "Requirement already satisfied: click>=8.0.0 in /usr/local/lib/python3.10/dist-packages (from typer<1.0.0,>=0.3.0->spacy<3.8.0,>=3.7.2->en-core-web-sm==3.7.1) (8.1.7)\n",
            "Requirement already satisfied: shellingham>=1.3.0 in /usr/local/lib/python3.10/dist-packages (from typer<1.0.0,>=0.3.0->spacy<3.8.0,>=3.7.2->en-core-web-sm==3.7.1) (1.5.4)\n",
            "Requirement already satisfied: rich>=10.11.0 in /usr/local/lib/python3.10/dist-packages (from typer<1.0.0,>=0.3.0->spacy<3.8.0,>=3.7.2->en-core-web-sm==3.7.1) (13.7.1)\n",
            "Requirement already satisfied: cloudpathlib<1.0.0,>=0.7.0 in /usr/local/lib/python3.10/dist-packages (from weasel<0.5.0,>=0.1.0->spacy<3.8.0,>=3.7.2->en-core-web-sm==3.7.1) (0.18.1)\n",
            "Requirement already satisfied: smart-open<8.0.0,>=5.2.1 in /usr/local/lib/python3.10/dist-packages (from weasel<0.5.0,>=0.1.0->spacy<3.8.0,>=3.7.2->en-core-web-sm==3.7.1) (7.0.4)\n",
            "Requirement already satisfied: MarkupSafe>=2.0 in /usr/local/lib/python3.10/dist-packages (from jinja2->spacy<3.8.0,>=3.7.2->en-core-web-sm==3.7.1) (2.1.5)\n",
            "Requirement already satisfied: marisa-trie>=0.7.7 in /usr/local/lib/python3.10/dist-packages (from language-data>=1.2->langcodes<4.0.0,>=3.2.0->spacy<3.8.0,>=3.7.2->en-core-web-sm==3.7.1) (1.2.0)\n",
            "Requirement already satisfied: markdown-it-py>=2.2.0 in /usr/local/lib/python3.10/dist-packages (from rich>=10.11.0->typer<1.0.0,>=0.3.0->spacy<3.8.0,>=3.7.2->en-core-web-sm==3.7.1) (3.0.0)\n",
            "Requirement already satisfied: pygments<3.0.0,>=2.13.0 in /usr/local/lib/python3.10/dist-packages (from rich>=10.11.0->typer<1.0.0,>=0.3.0->spacy<3.8.0,>=3.7.2->en-core-web-sm==3.7.1) (2.16.1)\n",
            "Requirement already satisfied: wrapt in /usr/local/lib/python3.10/dist-packages (from smart-open<8.0.0,>=5.2.1->weasel<0.5.0,>=0.1.0->spacy<3.8.0,>=3.7.2->en-core-web-sm==3.7.1) (1.16.0)\n",
            "Requirement already satisfied: mdurl~=0.1 in /usr/local/lib/python3.10/dist-packages (from markdown-it-py>=2.2.0->rich>=10.11.0->typer<1.0.0,>=0.3.0->spacy<3.8.0,>=3.7.2->en-core-web-sm==3.7.1) (0.1.2)\n",
            "\u001b[38;5;2m✔ Download and installation successful\u001b[0m\n",
            "You can now load the package via spacy.load('en_core_web_sm')\n",
            "\u001b[38;5;3m⚠ Restart to reload dependencies\u001b[0m\n",
            "If you are in a Jupyter or Colab notebook, you may need to restart Python in\n",
            "order to load all the package's dependencies. You can do this by selecting the\n",
            "'Restart kernel' or 'Restart runtime' option.\n"
          ]
        }
      ],
      "source": [
        "!pip install spacy\n",
        "!python -m spacy download en_core_web_sm"
      ]
    },
    {
      "cell_type": "code",
      "execution_count": null,
      "metadata": {
        "colab": {
          "base_uri": "https://localhost:8080/"
        },
        "id": "07lbmCYFOyB4",
        "outputId": "4e98850f-7399-4fa8-e1a8-b93bf81f52c4"
      },
      "outputs": [
        {
          "output_type": "stream",
          "name": "stdout",
          "text": [
            "3.167834300771161\n"
          ]
        }
      ],
      "source": [
        "import spacy\n",
        "\n",
        "nlp = spacy.load(\"en_core_web_sm\")\n",
        "\n",
        "# Correctly process each sentence individually\n",
        "embeddings = [nlp(sentence).vector for sentence in [\"Kerala Reels Under Massive Landslides Death Toll Mounts\",\n",
        "\"Rescue Operations Intensify as Kerala Battles Floods and Landslides\",\n",
        "\"Kerala CM Pinarayi Vijayan Announces Relief Measures for Landslide Victims\",\n",
        "\"Army, Navy Join Rescue Efforts in Kerala's Disaster-Hit Districts\",\n",
        "\"Kerala Braces for More Rain as Landslide Threat Looms Large\",\n",
        "\"Heart-Wrenching Stories Emerge from Kerala Landslide Tragedy\",\n",
        "\"Kerala Government Seeks Central Assistance to Tackle Crisis\",\n",
        "\"Climate Change Impact Experts Warn of Increased Landslide Risk in Kerala\"]]\n",
        "\n",
        "distance = euclidean_distance(embeddings[0], embeddings[1])\n",
        "print(distance)"
      ]
    },
    {
      "cell_type": "code",
      "execution_count": null,
      "metadata": {
        "colab": {
          "base_uri": "https://localhost:8080/"
        },
        "id": "tSc1MgErii2R",
        "outputId": "b06e3ef7-9504-467d-dab3-662366e38a33"
      },
      "outputs": [
        {
          "output_type": "execute_result",
          "data": {
            "text/plain": [
              "0.04209466363793555"
            ]
          },
          "metadata": {},
          "execution_count": 7
        }
      ],
      "source": [
        "def distance_to_similarity(distance):\n",
        "  return 1/exp(distance)\n",
        "\n",
        "distance_to_similarity(distance)"
      ]
    },
    {
      "cell_type": "code",
      "execution_count": null,
      "metadata": {
        "colab": {
          "base_uri": "https://localhost:8080/"
        },
        "id": "CLmv0Vl90eQe",
        "outputId": "4ef719b5-5b20-4fa1-aeb4-10463eb5717b"
      },
      "outputs": [
        {
          "output_type": "stream",
          "name": "stdout",
          "text": [
            "Counter({'kerala': 7, 'landslide': 4, 'landslides': 2, 'rescue': 2, 'as': 2, 'for': 2, 'in': 2, 'reels': 1, 'under': 1, 'massive': 1, 'death': 1, 'toll': 1, 'mounts': 1, 'operations': 1, 'intensify': 1, 'battles': 1, 'floods': 1, 'and': 1, 'cm': 1, 'pinarayi': 1, 'vijayan': 1, 'announces': 1, 'relief': 1, 'measures': 1, 'victims': 1, 'army,': 1, 'navy': 1, 'join': 1, 'efforts': 1, \"kerala's\": 1, 'disaster-hit': 1, 'districts': 1, 'braces': 1, 'more': 1, 'rain': 1, 'threat': 1, 'looms': 1, 'large': 1, 'heart-wrenching': 1, 'stories': 1, 'emerge': 1, 'from': 1, 'tragedy': 1, 'government': 1, 'seeks': 1, 'central': 1, 'assistance': 1, 'to': 1, 'tackle': 1, 'crisis': 1, 'climate': 1, 'change': 1, 'impact': 1, 'experts': 1, 'warn': 1, 'of': 1, 'increased': 1, 'risk': 1})\n"
          ]
        }
      ],
      "source": [
        "#bag of words\n",
        "from collections import Counter\n",
        "corpus = \" \".join([\"Kerala Reels Under Massive Landslides Death Toll Mounts\",\n",
        "\"Rescue Operations Intensify as Kerala Battles Floods and Landslides\",\n",
        "\"Kerala CM Pinarayi Vijayan Announces Relief Measures for Landslide Victims\",\n",
        "\"Army, Navy Join Rescue Efforts in Kerala's Disaster-Hit Districts\",\n",
        "\"Kerala Braces for More Rain as Landslide Threat Looms Large\",\n",
        "\"Heart-Wrenching Stories Emerge from Kerala Landslide Tragedy\",\n",
        "\"Kerala Government Seeks Central Assistance to Tackle Crisis\",\n",
        "\"Climate Change Impact Experts Warn of Increased Landslide Risk in Kerala\"])\n",
        "words = corpus.lower().split()\n",
        "bag_of_words = Counter(words)\n",
        "print(bag_of_words)"
      ]
    },
    {
      "cell_type": "code",
      "execution_count": null,
      "metadata": {
        "colab": {
          "base_uri": "https://localhost:8080/"
        },
        "id": "nrAnMH5x0pS8",
        "outputId": "94b37e9d-1250-4471-bf63-da88ad9e503d"
      },
      "outputs": [
        {
          "output_type": "stream",
          "name": "stdout",
          "text": [
            "['and' 'announces' 'army' 'as' 'assistance' 'battles' 'braces' 'central'\n",
            " 'change' 'climate' 'cm' 'crisis' 'death' 'disaster' 'districts' 'efforts'\n",
            " 'emerge' 'experts' 'floods' 'for' 'from' 'government' 'heart' 'hit'\n",
            " 'impact' 'in' 'increased' 'intensify' 'join' 'kerala' 'landslide'\n",
            " 'landslides' 'large' 'looms' 'massive' 'measures' 'more' 'mounts' 'navy'\n",
            " 'of' 'operations' 'pinarayi' 'rain' 'reels' 'relief' 'rescue' 'risk'\n",
            " 'seeks' 'stories' 'tackle' 'threat' 'to' 'toll' 'tragedy' 'under'\n",
            " 'victims' 'vijayan' 'warn' 'wrenching']\n",
            "[[0 0 0 0 0 0 0 0 0 0 0 0 1 0 0 0 0 0 0 0 0 0 0 0 0 0 0 0 0 1 0 1 0 0 1 0\n",
            "  0 1 0 0 0 0 0 1 0 0 0 0 0 0 0 0 1 0 1 0 0 0 0]\n",
            " [1 0 0 1 0 1 0 0 0 0 0 0 0 0 0 0 0 0 1 0 0 0 0 0 0 0 0 1 0 1 0 1 0 0 0 0\n",
            "  0 0 0 0 1 0 0 0 0 1 0 0 0 0 0 0 0 0 0 0 0 0 0]\n",
            " [0 1 0 0 0 0 0 0 0 0 1 0 0 0 0 0 0 0 0 1 0 0 0 0 0 0 0 0 0 1 1 0 0 0 0 1\n",
            "  0 0 0 0 0 1 0 0 1 0 0 0 0 0 0 0 0 0 0 1 1 0 0]\n",
            " [0 0 1 0 0 0 0 0 0 0 0 0 0 1 1 1 0 0 0 0 0 0 0 1 0 1 0 0 1 1 0 0 0 0 0 0\n",
            "  0 0 1 0 0 0 0 0 0 1 0 0 0 0 0 0 0 0 0 0 0 0 0]\n",
            " [0 0 0 1 0 0 1 0 0 0 0 0 0 0 0 0 0 0 0 1 0 0 0 0 0 0 0 0 0 1 1 0 1 1 0 0\n",
            "  1 0 0 0 0 0 1 0 0 0 0 0 0 0 1 0 0 0 0 0 0 0 0]\n",
            " [0 0 0 0 0 0 0 0 0 0 0 0 0 0 0 0 1 0 0 0 1 0 1 0 0 0 0 0 0 1 1 0 0 0 0 0\n",
            "  0 0 0 0 0 0 0 0 0 0 0 0 1 0 0 0 0 1 0 0 0 0 1]\n",
            " [0 0 0 0 1 0 0 1 0 0 0 1 0 0 0 0 0 0 0 0 0 1 0 0 0 0 0 0 0 1 0 0 0 0 0 0\n",
            "  0 0 0 0 0 0 0 0 0 0 0 1 0 1 0 1 0 0 0 0 0 0 0]\n",
            " [0 0 0 0 0 0 0 0 1 1 0 0 0 0 0 0 0 1 0 0 0 0 0 0 1 1 1 0 0 1 1 0 0 0 0 0\n",
            "  0 0 0 1 0 0 0 0 0 0 1 0 0 0 0 0 0 0 0 0 0 1 0]]\n"
          ]
        }
      ],
      "source": [
        "#count vectorizer\n",
        "from sklearn.feature_extraction.text import CountVectorizer\n",
        "vectorizer = CountVectorizer()\n",
        "X = vectorizer.fit_transform([\"Kerala Reels Under Massive Landslides Death Toll Mounts\",\n",
        "\"Rescue Operations Intensify as Kerala Battles Floods and Landslides\",\n",
        "\"Kerala CM Pinarayi Vijayan Announces Relief Measures for Landslide Victims\",\n",
        "\"Army, Navy Join Rescue Efforts in Kerala's Disaster-Hit Districts\",\n",
        "\"Kerala Braces for More Rain as Landslide Threat Looms Large\",\n",
        "\"Heart-Wrenching Stories Emerge from Kerala Landslide Tragedy\",\n",
        "\"Kerala Government Seeks Central Assistance to Tackle Crisis\",\n",
        "\"Climate Change Impact Experts Warn of Increased Landslide Risk in Kerala\"])\n",
        "print(vectorizer.get_feature_names_out())\n",
        "print(X.toarray())"
      ]
    },
    {
      "cell_type": "code",
      "execution_count": null,
      "metadata": {
        "colab": {
          "base_uri": "https://localhost:8080/"
        },
        "id": "6MyjmHbY1WvO",
        "outputId": "852972f4-20d8-49ff-ad11-9b6a08729ae8"
      },
      "outputs": [
        {
          "output_type": "stream",
          "name": "stdout",
          "text": [
            "['and' 'announces' 'army' 'as' 'assistance' 'battles' 'braces' 'central'\n",
            " 'change' 'climate' 'cm' 'crisis' 'death' 'disaster' 'districts' 'efforts'\n",
            " 'emerge' 'experts' 'floods' 'for' 'from' 'government' 'heart' 'hit'\n",
            " 'impact' 'in' 'increased' 'intensify' 'join' 'kerala' 'landslide'\n",
            " 'landslides' 'large' 'looms' 'massive' 'measures' 'more' 'mounts' 'navy'\n",
            " 'of' 'operations' 'pinarayi' 'rain' 'reels' 'relief' 'rescue' 'risk'\n",
            " 'seeks' 'stories' 'tackle' 'threat' 'to' 'toll' 'tragedy' 'under'\n",
            " 'victims' 'vijayan' 'warn' 'wrenching']\n",
            "[[0.         0.         0.         0.         0.         0.\n",
            "  0.         0.         0.         0.         0.         0.\n",
            "  0.38175019 0.         0.         0.         0.         0.\n",
            "  0.         0.         0.         0.         0.         0.\n",
            "  0.         0.         0.         0.         0.         0.15245143\n",
            "  0.         0.31993645 0.         0.         0.38175019 0.\n",
            "  0.         0.38175019 0.         0.         0.         0.\n",
            "  0.         0.38175019 0.         0.         0.         0.\n",
            "  0.         0.         0.         0.         0.38175019 0.\n",
            "  0.38175019 0.         0.         0.         0.        ]\n",
            " [0.37096613 0.         0.         0.31089857 0.         0.37096613\n",
            "  0.         0.         0.         0.         0.         0.\n",
            "  0.         0.         0.         0.         0.         0.\n",
            "  0.37096613 0.         0.         0.         0.         0.\n",
            "  0.         0.         0.         0.37096613 0.         0.14814483\n",
            "  0.         0.31089857 0.         0.         0.         0.\n",
            "  0.         0.         0.         0.         0.37096613 0.\n",
            "  0.         0.         0.         0.31089857 0.         0.\n",
            "  0.         0.         0.         0.         0.         0.\n",
            "  0.         0.         0.         0.         0.        ]\n",
            " [0.         0.34786213 0.         0.         0.         0.\n",
            "  0.         0.         0.         0.         0.34786213 0.\n",
            "  0.         0.         0.         0.         0.         0.\n",
            "  0.         0.29153561 0.         0.         0.         0.\n",
            "  0.         0.         0.         0.         0.         0.13891828\n",
            "  0.2205726  0.         0.         0.         0.         0.34786213\n",
            "  0.         0.         0.         0.         0.         0.34786213\n",
            "  0.         0.         0.34786213 0.         0.         0.\n",
            "  0.         0.         0.         0.         0.         0.\n",
            "  0.         0.34786213 0.34786213 0.         0.        ]\n",
            " [0.         0.         0.34170857 0.         0.         0.\n",
            "  0.         0.         0.         0.         0.         0.\n",
            "  0.         0.34170857 0.34170857 0.34170857 0.         0.\n",
            "  0.         0.         0.         0.         0.         0.34170857\n",
            "  0.         0.28637845 0.         0.         0.34170857 0.13646086\n",
            "  0.         0.         0.         0.         0.         0.\n",
            "  0.         0.         0.34170857 0.         0.         0.\n",
            "  0.         0.         0.         0.28637845 0.         0.\n",
            "  0.         0.         0.         0.         0.         0.\n",
            "  0.         0.         0.         0.         0.        ]\n",
            " [0.         0.         0.         0.29693165 0.         0.\n",
            "  0.35430071 0.         0.         0.         0.         0.\n",
            "  0.         0.         0.         0.         0.         0.\n",
            "  0.         0.29693165 0.         0.         0.         0.\n",
            "  0.         0.         0.         0.         0.         0.14148952\n",
            "  0.22465517 0.         0.35430071 0.35430071 0.         0.\n",
            "  0.35430071 0.         0.         0.         0.         0.\n",
            "  0.35430071 0.         0.         0.         0.         0.\n",
            "  0.         0.         0.35430071 0.         0.         0.\n",
            "  0.         0.         0.         0.         0.        ]\n",
            " [0.         0.         0.         0.         0.         0.\n",
            "  0.         0.         0.         0.         0.         0.\n",
            "  0.         0.         0.         0.         0.39038866 0.\n",
            "  0.         0.         0.39038866 0.         0.39038866 0.\n",
            "  0.         0.         0.         0.         0.         0.1559012\n",
            "  0.24753784 0.         0.         0.         0.         0.\n",
            "  0.         0.         0.         0.         0.         0.\n",
            "  0.         0.         0.         0.         0.         0.\n",
            "  0.39038866 0.         0.         0.         0.         0.39038866\n",
            "  0.         0.         0.         0.         0.39038866]\n",
            " [0.         0.         0.         0.         0.37373113 0.\n",
            "  0.         0.37373113 0.         0.         0.         0.37373113\n",
            "  0.         0.         0.         0.         0.         0.\n",
            "  0.         0.         0.         0.37373113 0.         0.\n",
            "  0.         0.         0.         0.         0.         0.14924903\n",
            "  0.         0.         0.         0.         0.         0.\n",
            "  0.         0.         0.         0.         0.         0.\n",
            "  0.         0.         0.         0.         0.         0.37373113\n",
            "  0.         0.37373113 0.         0.37373113 0.         0.\n",
            "  0.         0.         0.         0.         0.        ]\n",
            " [0.         0.         0.         0.         0.         0.\n",
            "  0.         0.         0.32855099 0.32855099 0.         0.\n",
            "  0.         0.         0.         0.         0.         0.32855099\n",
            "  0.         0.         0.         0.         0.         0.\n",
            "  0.32855099 0.27535137 0.32855099 0.         0.         0.1312064\n",
            "  0.20832778 0.         0.         0.         0.         0.\n",
            "  0.         0.         0.         0.32855099 0.         0.\n",
            "  0.         0.         0.         0.         0.32855099 0.\n",
            "  0.         0.         0.         0.         0.         0.\n",
            "  0.         0.         0.         0.32855099 0.        ]]\n"
          ]
        }
      ],
      "source": [
        "#Tfidf vectorizer\n",
        "from sklearn.feature_extraction.text import TfidfVectorizer\n",
        "\n",
        "corpus = [\"Kerala Reels Under Massive Landslides Death Toll Mounts\",\n",
        "\"Rescue Operations Intensify as Kerala Battles Floods and Landslides\",\n",
        "\"Kerala CM Pinarayi Vijayan Announces Relief Measures for Landslide Victims\",\n",
        "\"Army, Navy Join Rescue Efforts in Kerala's Disaster-Hit Districts\",\n",
        "\"Kerala Braces for More Rain as Landslide Threat Looms Large\",\n",
        "\"Heart-Wrenching Stories Emerge from Kerala Landslide Tragedy\",\n",
        "\"Kerala Government Seeks Central Assistance to Tackle Crisis\",\n",
        "\"Climate Change Impact Experts Warn of Increased Landslide Risk in Kerala\"]\n",
        "vectorizer = TfidfVectorizer()\n",
        "X = vectorizer.fit_transform(corpus)\n",
        "\n",
        "print(vectorizer.get_feature_names_out())\n",
        "print(X.toarray())"
      ]
    },
    {
      "cell_type": "code",
      "execution_count": null,
      "metadata": {
        "colab": {
          "base_uri": "https://localhost:8080/"
        },
        "id": "JZRg5_y_7Gz2",
        "outputId": "24acbbfd-e1fe-4397-9732-7073bc749052"
      },
      "outputs": [
        {
          "output_type": "stream",
          "name": "stderr",
          "text": [
            "[nltk_data] Downloading package punkt to /root/nltk_data...\n",
            "[nltk_data]   Unzipping tokenizers/punkt.zip.\n"
          ]
        },
        {
          "output_type": "execute_result",
          "data": {
            "text/plain": [
              "True"
            ]
          },
          "metadata": {},
          "execution_count": 12
        }
      ],
      "source": [
        "import nltk\n",
        "nltk.download('punkt')"
      ]
    },
    {
      "cell_type": "code",
      "execution_count": null,
      "metadata": {
        "colab": {
          "base_uri": "https://localhost:8080/"
        },
        "id": "YjZIAbO47Pl2",
        "outputId": "64890295-bebf-40e1-b43f-be8e24377d50"
      },
      "outputs": [
        {
          "output_type": "stream",
          "name": "stdout",
          "text": [
            "Requirement already satisfied: gensim in /usr/local/lib/python3.10/dist-packages (4.3.3)\n",
            "Requirement already satisfied: numpy<2.0,>=1.18.5 in /usr/local/lib/python3.10/dist-packages (from gensim) (1.26.4)\n",
            "Requirement already satisfied: scipy<1.14.0,>=1.7.0 in /usr/local/lib/python3.10/dist-packages (from gensim) (1.13.1)\n",
            "Requirement already satisfied: smart-open>=1.8.1 in /usr/local/lib/python3.10/dist-packages (from gensim) (7.0.4)\n",
            "Requirement already satisfied: wrapt in /usr/local/lib/python3.10/dist-packages (from smart-open>=1.8.1->gensim) (1.16.0)\n"
          ]
        }
      ],
      "source": [
        "# Step 1: Install gensim\n",
        "!pip install gensim"
      ]
    },
    {
      "cell_type": "code",
      "execution_count": null,
      "metadata": {
        "colab": {
          "base_uri": "https://localhost:8080/"
        },
        "id": "AaWEdRAQcifm",
        "outputId": "f1ce8617-7e99-436c-b291-7111f4b09722"
      },
      "outputs": [
        {
          "output_type": "stream",
          "name": "stdout",
          "text": [
            "[Kerala Reels Under Massive Landslides Death Toll Mounts, Rescue Operations Intensify as Kerala Battles Floods and Landslides, Kerala CM Pinarayi Vijayan Announces Relief Measures for Landslide Victims, Army, Navy Join Rescue Efforts in Kerala's Disaster-Hit Districts, Kerala Braces for More Rain as Landslide Threat Looms Large, Heart-Wrenching Stories Emerge from Kerala Landslide Tragedy, Kerala Government Seeks Central Assistance to Tackle Crisis, Climate Change Impact Experts Warn of Increased Landslide Risk in Kerala]\n"
          ]
        }
      ],
      "source": [
        "import spacy\n",
        "nlp = spacy.load(\"en_core_web_sm\")\n",
        "\n",
        "# Assuming 'sentences' is a list of strings (not tokenized)\n",
        "# For example:\n",
        "sentences = [\"Kerala Reels Under Massive Landslides Death Toll Mounts\",\n",
        "\"Rescue Operations Intensify as Kerala Battles Floods and Landslides\",\n",
        "\"Kerala CM Pinarayi Vijayan Announces Relief Measures for Landslide Victims\",\n",
        "\"Army, Navy Join Rescue Efforts in Kerala's Disaster-Hit Districts\",\n",
        "\"Kerala Braces for More Rain as Landslide Threat Looms Large\",\n",
        "\"Heart-Wrenching Stories Emerge from Kerala Landslide Tragedy\",\n",
        "\"Kerala Government Seeks Central Assistance to Tackle Crisis\",\n",
        "\"Climate Change Impact Experts Warn of Increased Landslide Risk in Kerala\"]\n",
        "\n",
        "docs = list(nlp.pipe(sentences))\n",
        "\n",
        "print(docs)"
      ]
    },
    {
      "cell_type": "code",
      "execution_count": null,
      "metadata": {
        "colab": {
          "base_uri": "https://localhost:8080/"
        },
        "id": "kFyOoHUA_6t6",
        "outputId": "ca4233fe-434f-4b8b-de24-fe03a943b6f7"
      },
      "outputs": [
        {
          "output_type": "stream",
          "name": "stdout",
          "text": [
            "[-2.5647080e-01 -4.8478627e-01 -1.9700864e-01  7.0730507e-01\n",
            "  3.2927501e-01 -2.7212623e-01  5.4348445e-01  8.5415709e-01\n",
            "  3.3992533e-02 -3.5561547e-03  5.8111674e-01  8.6154193e-01\n",
            " -1.2231843e+00 -1.3883498e+00 -7.0280302e-01 -1.8835461e-01\n",
            " -1.4360577e-01  6.6609010e-03 -2.0822442e-01 -6.4365423e-01\n",
            " -7.7404583e-01 -6.9962424e-01  4.2696238e-02  8.1209671e-01\n",
            "  1.6697498e-01  1.3646424e-01  7.3278856e-01  3.1000185e-01\n",
            "  3.7128600e-01  6.6700447e-01 -3.0987453e-01 -4.0697110e-01\n",
            " -5.4727173e-01  6.9726968e-01 -6.7725849e-01 -3.4905642e-02\n",
            "  8.4564269e-01  3.5389653e-01 -3.4522036e-01 -8.9078903e-01\n",
            " -1.0330305e+00  2.8938666e-02 -3.8326254e-01  5.9843695e-01\n",
            " -4.5409811e-01  2.2522856e-01 -2.3150964e-01  1.8085907e-01\n",
            "  4.3360159e-02 -2.5391662e-01 -6.7627919e-01  5.5501258e-01\n",
            "  5.4137987e-01 -3.7850302e-01 -1.0071119e+00 -6.0257006e-02\n",
            "  2.1787637e-01 -4.3307763e-01  7.9196537e-01  7.7379234e-02\n",
            " -2.2926503e-01 -7.2655094e-01 -1.7390010e-01 -6.7330271e-01\n",
            " -1.9195653e-01 -3.0657652e-01  7.9372108e-01  1.0710673e+00\n",
            " -2.2629109e-01 -2.6398459e-01  4.7138798e-01  2.9229683e-01\n",
            "  1.1559863e+00 -4.2040703e-01  6.3705826e-01  1.5228389e-01\n",
            " -4.1671759e-01 -5.3071892e-01 -5.1515514e-01 -3.3311355e-01\n",
            " -3.2311323e-01  1.7814544e-01  7.6235965e-02 -3.6969647e-01\n",
            "  2.0806491e-04 -2.9973209e-01  3.7932983e-01 -1.3422967e-01\n",
            " -7.9133981e-01  5.8219367e-01  2.5550097e-01 -1.6235094e-01\n",
            "  2.3600070e+00  3.5445946e-01 -6.2847823e-01  1.2391661e-01]\n"
          ]
        }
      ],
      "source": [
        "print(docs[0].vector)"
      ]
    },
    {
      "cell_type": "code",
      "execution_count": null,
      "metadata": {
        "colab": {
          "base_uri": "https://localhost:8080/"
        },
        "id": "XytGCqmJ-7ce",
        "outputId": "1f178b3f-cf7c-456b-8ac2-236ec40325e2"
      },
      "outputs": [
        {
          "output_type": "execute_result",
          "data": {
            "text/plain": [
              "0.833"
            ]
          },
          "metadata": {},
          "execution_count": 16
        }
      ],
      "source": [
        "#cosine similarity\n",
        "def cos_similarity(x,y):\n",
        "  \"\"\" return cosine similarity between two lists \"\"\"\n",
        "\n",
        "  numerator = sum(a*b for a,b in zip(x,y))\n",
        "  denominator = squared_sum(x)*squared_sum(y)\n",
        "  return round(numerator/float(denominator),3)\n",
        "\n",
        "cos_similarity(embeddings[0], embeddings[1])"
      ]
    },
    {
      "cell_type": "code",
      "execution_count": null,
      "metadata": {
        "colab": {
          "base_uri": "https://localhost:8080/"
        },
        "id": "AUqZxJYudV0W",
        "outputId": "06300c33-c3d7-4d96-9ebe-f65d754bc616"
      },
      "outputs": [
        {
          "output_type": "stream",
          "name": "stdout",
          "text": [
            "Requirement already satisfied: nltk in /usr/local/lib/python3.10/dist-packages (3.8.1)\n",
            "Requirement already satisfied: click in /usr/local/lib/python3.10/dist-packages (from nltk) (8.1.7)\n",
            "Requirement already satisfied: joblib in /usr/local/lib/python3.10/dist-packages (from nltk) (1.4.2)\n",
            "Requirement already satisfied: regex>=2021.8.3 in /usr/local/lib/python3.10/dist-packages (from nltk) (2024.5.15)\n",
            "Requirement already satisfied: tqdm in /usr/local/lib/python3.10/dist-packages (from nltk) (4.66.4)\n",
            "Requirement already satisfied: gensim in /usr/local/lib/python3.10/dist-packages (4.3.3)\n",
            "Requirement already satisfied: numpy<2.0,>=1.18.5 in /usr/local/lib/python3.10/dist-packages (from gensim) (1.26.4)\n",
            "Requirement already satisfied: scipy<1.14.0,>=1.7.0 in /usr/local/lib/python3.10/dist-packages (from gensim) (1.13.1)\n",
            "Requirement already satisfied: smart-open>=1.8.1 in /usr/local/lib/python3.10/dist-packages (from gensim) (7.0.4)\n",
            "Requirement already satisfied: wrapt in /usr/local/lib/python3.10/dist-packages (from smart-open>=1.8.1->gensim) (1.16.0)\n"
          ]
        },
        {
          "output_type": "stream",
          "name": "stderr",
          "text": [
            "[nltk_data] Downloading package punkt to /root/nltk_data...\n",
            "[nltk_data]   Package punkt is already up-to-date!\n"
          ]
        }
      ],
      "source": [
        "!pip install nltk\n",
        "!pip install gensim\n",
        "import nltk\n",
        "nltk.download('punkt') # Download the necessary data for word tokenization\n",
        "from nltk.tokenize import word_tokenize\n",
        "from gensim.models import Word2Vec\n",
        "from sklearn.cluster import KMeans"
      ]
    },
    {
      "cell_type": "code",
      "source": [
        "from nltk.tokenize import word_tokenize\n",
        "from gensim.models import Word2Vec\n",
        "from sklearn.cluster import KMeans\n",
        "from sklearn.metrics import silhouette_score\n",
        "import matplotlib.pyplot as plt\n",
        "from sklearn.decomposition import PCA\n",
        "\n",
        "# Sample sentences\n",
        "sentences = [\n",
        "    \"Kerala Reels Under Massive Landslides Death Toll Mounts\",\n",
        "    \"Rescue Operations Intensify as Kerala Battles Floods and Landslides\",\n",
        "    \"Kerala CM Pinarayi Vijayan Announces Relief Measures for Landslide Victims\",\n",
        "    \"Army, Navy Join Rescue Efforts in Kerala's Disaster-Hit Districts\",\n",
        "    \"Kerala Braces for More Rain as Landslide Threat Looms Large\",\n",
        "    \"Heart-Wrenching Stories Emerge from Kerala Landslide Tragedy\",\n",
        "    \"Kerala Government Seeks Central Assistance to Tackle Crisis\",\n",
        "    \"Climate Change Impact Experts Warn of Increased Landslide Risk in Kerala\"\n",
        "]\n",
        "\n",
        "# Tokenize sentences\n",
        "tokenized_sentences = [word_tokenize(sentence.lower()) for sentence in sentences]\n",
        "\n",
        "# Train Word2Vec model\n",
        "model = Word2Vec(sentences=tokenized_sentences, vector_size=100, window=5, min_count=1, workers=4)\n",
        "\n",
        "# Get word vectors for all unique words\n",
        "word_vectors = [model.wv[word] for word in model.wv.index_to_key]\n",
        "\n",
        "\n",
        "\n",
        "\n"
      ],
      "metadata": {
        "id": "nqPaE4G7PvEE"
      },
      "execution_count": null,
      "outputs": []
    },
    {
      "cell_type": "code",
      "source": [
        "wcss = []\n",
        "max_clusters = 10  # Maximum number of clusters to consider\n",
        "\n",
        "for num_clusters in range(1, max_clusters + 1):\n",
        "    kmeans = KMeans(n_clusters=num_clusters, random_state=42)\n",
        "    kmeans.fit(word_vectors)\n",
        "    wcss.append(kmeans.inertia_)\n",
        "\n",
        "# Plot the elbow curve\n",
        "plt.figure(figsize=(10, 6))\n",
        "plt.plot(range(1, max_clusters + 1), wcss, marker='o')\n",
        "plt.title('Elbow Method for Optimal Number of Clusters')\n",
        "plt.xlabel('Number of Clusters')\n",
        "plt.ylabel('WCSS')\n",
        "plt.xticks(range(1, max_clusters + 1))\n",
        "plt.grid(True)\n",
        "plt.show()"
      ],
      "metadata": {
        "id": "FeXbHIV6e2Y3",
        "outputId": "13a429e0-47a6-4eee-c93b-218ad5aa18b9",
        "colab": {
          "base_uri": "https://localhost:8080/",
          "height": 931
        }
      },
      "execution_count": null,
      "outputs": [
        {
          "output_type": "stream",
          "name": "stderr",
          "text": [
            "/usr/local/lib/python3.10/dist-packages/sklearn/cluster/_kmeans.py:1416: FutureWarning: The default value of `n_init` will change from 10 to 'auto' in 1.4. Set the value of `n_init` explicitly to suppress the warning\n",
            "  super()._check_params_vs_input(X, default_n_init=10)\n",
            "/usr/local/lib/python3.10/dist-packages/sklearn/cluster/_kmeans.py:1416: FutureWarning: The default value of `n_init` will change from 10 to 'auto' in 1.4. Set the value of `n_init` explicitly to suppress the warning\n",
            "  super()._check_params_vs_input(X, default_n_init=10)\n",
            "/usr/local/lib/python3.10/dist-packages/sklearn/cluster/_kmeans.py:1416: FutureWarning: The default value of `n_init` will change from 10 to 'auto' in 1.4. Set the value of `n_init` explicitly to suppress the warning\n",
            "  super()._check_params_vs_input(X, default_n_init=10)\n",
            "/usr/local/lib/python3.10/dist-packages/sklearn/cluster/_kmeans.py:1416: FutureWarning: The default value of `n_init` will change from 10 to 'auto' in 1.4. Set the value of `n_init` explicitly to suppress the warning\n",
            "  super()._check_params_vs_input(X, default_n_init=10)\n",
            "/usr/local/lib/python3.10/dist-packages/sklearn/cluster/_kmeans.py:1416: FutureWarning: The default value of `n_init` will change from 10 to 'auto' in 1.4. Set the value of `n_init` explicitly to suppress the warning\n",
            "  super()._check_params_vs_input(X, default_n_init=10)\n",
            "/usr/local/lib/python3.10/dist-packages/sklearn/cluster/_kmeans.py:1416: FutureWarning: The default value of `n_init` will change from 10 to 'auto' in 1.4. Set the value of `n_init` explicitly to suppress the warning\n",
            "  super()._check_params_vs_input(X, default_n_init=10)\n",
            "/usr/local/lib/python3.10/dist-packages/sklearn/cluster/_kmeans.py:1416: FutureWarning: The default value of `n_init` will change from 10 to 'auto' in 1.4. Set the value of `n_init` explicitly to suppress the warning\n",
            "  super()._check_params_vs_input(X, default_n_init=10)\n",
            "/usr/local/lib/python3.10/dist-packages/sklearn/cluster/_kmeans.py:1416: FutureWarning: The default value of `n_init` will change from 10 to 'auto' in 1.4. Set the value of `n_init` explicitly to suppress the warning\n",
            "  super()._check_params_vs_input(X, default_n_init=10)\n",
            "/usr/local/lib/python3.10/dist-packages/sklearn/cluster/_kmeans.py:1416: FutureWarning: The default value of `n_init` will change from 10 to 'auto' in 1.4. Set the value of `n_init` explicitly to suppress the warning\n",
            "  super()._check_params_vs_input(X, default_n_init=10)\n",
            "/usr/local/lib/python3.10/dist-packages/sklearn/cluster/_kmeans.py:1416: FutureWarning: The default value of `n_init` will change from 10 to 'auto' in 1.4. Set the value of `n_init` explicitly to suppress the warning\n",
            "  super()._check_params_vs_input(X, default_n_init=10)\n"
          ]
        },
        {
          "output_type": "display_data",
          "data": {
            "text/plain": [
              "<Figure size 1000x600 with 1 Axes>"
            ],
            "image/png": "[encoded data removed]"
          },
          "metadata": {}
        }
      ]
    },
    {
      "cell_type": "code",
      "source": [
        "# Step 3: Calculate WCSS and silhouette score for different numbers of clusters\n",
        "num_clusters = 3\n",
        "\n",
        "# Fit KMeans model\n",
        "kmeans = KMeans(n_clusters=num_clusters, random_state=42)\n",
        "kmeans.fit(word_vectors)\n",
        "\n",
        "# Calculate WCSS\n",
        "wcss = kmeans.inertia_\n",
        "\n",
        "# Calculate silhouette score\n",
        "labels = kmeans.labels_\n",
        "silhouette_avg = silhouette_score(word_vectors, labels)\n",
        "\n",
        "# Print WCSS and silhouette score\n",
        "print(f\"Number of clusters: {num_clusters}\")\n",
        "print(f\"WCSS: {wcss}\")\n",
        "print(f\"Silhouette Score: {silhouette_avg}\")"
      ],
      "metadata": {
        "colab": {
          "base_uri": "https://localhost:8080/"
        },
        "id": "99D1THhNeVR2",
        "outputId": "b632eb2e-b6d3-4fbd-ebd7-7c34f1448d9b"
      },
      "execution_count": null,
      "outputs": [
        {
          "output_type": "stream",
          "name": "stdout",
          "text": [
            "Number of clusters: 3\n",
            "WCSS: 0.18376170612286358\n",
            "Silhouette Score: 0.013061143457889557\n"
          ]
        },
        {
          "output_type": "stream",
          "name": "stderr",
          "text": [
            "/usr/local/lib/python3.10/dist-packages/sklearn/cluster/_kmeans.py:1416: FutureWarning: The default value of `n_init` will change from 10 to 'auto' in 1.4. Set the value of `n_init` explicitly to suppress the warning\n",
            "  super()._check_params_vs_input(X, default_n_init=10)\n"
          ]
        }
      ]
    },
    {
      "cell_type": "code",
      "source": [
        "# Determine the optimal number of clusters (e.g., 3 based on the elbow curve)\n",
        "optimal_clusters = 3\n",
        "\n",
        "# Step 4: Apply PCA to reduce dimensionality for visualization\n",
        "pca = PCA(n_components=2)\n",
        "word_vectors_pca = pca.fit_transform(word_vectors)\n",
        "\n",
        "# Perform KMeans clustering with the optimal number of clusters\n",
        "kmeans = KMeans(n_clusters=3, random_state=42)\n",
        "labels = kmeans.fit_predict(word_vectors)\n",
        "\n",
        "# Visualize the clusters\n",
        "plt.figure(figsize=(8, 6))\n",
        "for i in range(optimal_clusters):\n",
        "    plt.scatter(word_vectors_pca[labels == i, 0], word_vectors_pca[labels == i, 1], label=f'Cluster {i+1}')\n",
        "plt.title('KMeans Clustering of Word Vectors (PCA-reduced)')\n",
        "plt.xlabel('PCA Component 1')\n",
        "plt.ylabel('PCA Component 2')\n",
        "plt.legend()\n",
        "plt.show()\n",
        "\n",
        "# Print the clustered words for each cluster\n",
        "for i in range(optimal_clusters):\n",
        "    cluster_words = [model.wv.index_to_key[j] for j in range(len(labels)) if labels[j] == i]\n",
        "    print(f\"Cluster {i+1}: {cluster_words}\")"
      ],
      "metadata": {
        "colab": {
          "base_uri": "https://localhost:8080/",
          "height": 671
        },
        "id": "iwfhOAeCPu-M",
        "outputId": "d08fdb2a-6fd4-4bd7-93c0-3ad250173756"
      },
      "execution_count": null,
      "outputs": [
        {
          "output_type": "stream",
          "name": "stderr",
          "text": [
            "/usr/local/lib/python3.10/dist-packages/sklearn/cluster/_kmeans.py:1416: FutureWarning: The default value of `n_init` will change from 10 to 'auto' in 1.4. Set the value of `n_init` explicitly to suppress the warning\n",
            "  super()._check_params_vs_input(X, default_n_init=10)\n"
          ]
        },
        {
          "output_type": "display_data",
          "data": {
            "text/plain": [
              "<Figure size 800x600 with 1 Axes>"
            ],
            "image/png": "[encoded data removed]"
          },
          "metadata": {}
        },
        {
          "output_type": "stream",
          "name": "stdout",
          "text": [
            "Cluster 1: ['kerala', 'victims', 'change', 'measures', 'pinarayi', 'intensify', 'warn', 'massive', 'army', ',', 'navy', 'heart-wrenching', 'from', 'emerge', 'districts']\n",
            "Cluster 2: ['landslide', 'landslides', 'rescue', 'for', 'climate', 'crisis', 'impact', 'announces', 'vijayan', 'cm', 'and', 'floods', 'battles', 'death', 'under', 'reels', 'tackle', 'to', 'central', 'tragedy', 'stories', 'large', 'looms', 'threat', 'more', \"'s\", 'efforts', 'risk']\n",
            "Cluster 3: ['as', 'in', 'relief', 'experts', 'operations', 'mounts', 'toll', 'of', 'assistance', 'seeks', 'government', 'join', 'rain', 'braces', 'disaster-hit', 'increased']\n"
          ]
        }
      ]
    }
  ],
  "metadata": {
    "colab": {
      "provenance": [],
      "authorship_tag": "ABX9TyMu+d9pE7ZopxDBBEz7dBdn",
      "include_colab_link": true
    },
    "kernelspec": {
      "display_name": "Python 3",
      "name": "python3"
    },
    "language_info": {
      "name": "python"
    }
  },
  "nbformat": 4,
  "nbformat_minor": 0
}